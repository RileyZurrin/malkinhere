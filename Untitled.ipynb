{
 "cells": [
  {
   "cell_type": "code",
   "execution_count": 59,
   "id": "f2cdc9cc",
   "metadata": {},
   "outputs": [],
   "source": [
    "import pandas as pd\n",
    "import numpy as np\n",
    "import plotly.express as px\n",
    "from scipy.stats import norm"
   ]
  },
  {
   "cell_type": "code",
   "execution_count": 122,
   "id": "ceedf6df",
   "metadata": {},
   "outputs": [],
   "source": [
    "df = pd.read_csv('malkinhere.csv')"
   ]
  },
  {
   "cell_type": "code",
   "execution_count": 123,
   "id": "34bc2bb9",
   "metadata": {
    "scrolled": true
   },
   "outputs": [],
   "source": [
    "means = df.mean()[1:]\n",
    "stds = df.std()[1:]"
   ]
  },
  {
   "cell_type": "code",
   "execution_count": 174,
   "id": "993f8d50",
   "metadata": {},
   "outputs": [],
   "source": [
    "def probAbeatsB(A, B):\n",
    "    mean_diff = means[A] - means[B]\n",
    "    std_diff = np.sqrt(stds[A]**2 + stds[B]**2)\n",
    "    prob = 1 - norm(mean_diff, std_diff).cdf(0)\n",
    "    return prob"
   ]
  },
  {
   "cell_type": "code",
   "execution_count": 175,
   "id": "3e40bae8",
   "metadata": {},
   "outputs": [
    {
     "data": {
      "text/plain": [
       "0.3552931967132005"
      ]
     },
     "execution_count": 175,
     "metadata": {},
     "output_type": "execute_result"
    }
   ],
   "source": [
    "probAbeatsB(\"Riley\", \"Bryce\")"
   ]
  },
  {
   "cell_type": "code",
   "execution_count": 126,
   "id": "1b094259",
   "metadata": {},
   "outputs": [],
   "source": [
    "seeding = df.sum()[1:]\n",
    "seeding = pd.DataFrame(seeding, columns=[\"Points\"]).sort_values(\"Points\", ascending=False)\n",
    "seeding[\"Seed\"] = [1,2,3,5,4,7,8,6,10,9]\n",
    "dfseed = seeding.sort_values(\"Seed\")"
   ]
  },
  {
   "cell_type": "code",
   "execution_count": 127,
   "id": "9d0fbeba",
   "metadata": {},
   "outputs": [
    {
     "data": {
      "text/html": [
       "<div>\n",
       "<style scoped>\n",
       "    .dataframe tbody tr th:only-of-type {\n",
       "        vertical-align: middle;\n",
       "    }\n",
       "\n",
       "    .dataframe tbody tr th {\n",
       "        vertical-align: top;\n",
       "    }\n",
       "\n",
       "    .dataframe thead th {\n",
       "        text-align: right;\n",
       "    }\n",
       "</style>\n",
       "<table border=\"1\" class=\"dataframe\">\n",
       "  <thead>\n",
       "    <tr style=\"text-align: right;\">\n",
       "      <th></th>\n",
       "      <th>Points</th>\n",
       "      <th>Seed</th>\n",
       "    </tr>\n",
       "  </thead>\n",
       "  <tbody>\n",
       "    <tr>\n",
       "      <th>Nico</th>\n",
       "      <td>5676.7</td>\n",
       "      <td>1</td>\n",
       "    </tr>\n",
       "    <tr>\n",
       "      <th>Jordan</th>\n",
       "      <td>4981.1</td>\n",
       "      <td>2</td>\n",
       "    </tr>\n",
       "    <tr>\n",
       "      <th>Bryce</th>\n",
       "      <td>4974.1</td>\n",
       "      <td>3</td>\n",
       "    </tr>\n",
       "    <tr>\n",
       "      <th>Evan</th>\n",
       "      <td>4918.7</td>\n",
       "      <td>4</td>\n",
       "    </tr>\n",
       "    <tr>\n",
       "      <th>Sam</th>\n",
       "      <td>4954.4</td>\n",
       "      <td>5</td>\n",
       "    </tr>\n",
       "    <tr>\n",
       "      <th>Isaiah</th>\n",
       "      <td>4460.7</td>\n",
       "      <td>6</td>\n",
       "    </tr>\n",
       "    <tr>\n",
       "      <th>Zach</th>\n",
       "      <td>4718.4</td>\n",
       "      <td>7</td>\n",
       "    </tr>\n",
       "    <tr>\n",
       "      <th>Riley</th>\n",
       "      <td>4509.8</td>\n",
       "      <td>8</td>\n",
       "    </tr>\n",
       "    <tr>\n",
       "      <th>Andrew</th>\n",
       "      <td>4154.8</td>\n",
       "      <td>9</td>\n",
       "    </tr>\n",
       "    <tr>\n",
       "      <th>Miles</th>\n",
       "      <td>4159.4</td>\n",
       "      <td>10</td>\n",
       "    </tr>\n",
       "  </tbody>\n",
       "</table>\n",
       "</div>"
      ],
      "text/plain": [
       "        Points  Seed\n",
       "Nico    5676.7     1\n",
       "Jordan  4981.1     2\n",
       "Bryce   4974.1     3\n",
       "Evan    4918.7     4\n",
       "Sam     4954.4     5\n",
       "Isaiah  4460.7     6\n",
       "Zach    4718.4     7\n",
       "Riley   4509.8     8\n",
       "Andrew  4154.8     9\n",
       "Miles   4159.4    10"
      ]
     },
     "execution_count": 127,
     "metadata": {},
     "output_type": "execute_result"
    }
   ],
   "source": [
    "dfseed"
   ]
  },
  {
   "cell_type": "code",
   "execution_count": 176,
   "id": "a1c36364",
   "metadata": {},
   "outputs": [],
   "source": [
    "def prob_Nico_plays_1(A):\n",
    "    if dfseed.loc[A, \"Seed\"] in (2,3):\n",
    "        return 0\n",
    "    if dfseed.loc[A, \"Seed\"] == 4:\n",
    "        opp = dfseed.index[dfseed['Seed'] == 5][0]\n",
    "        other1, other2 = dfseed.index[dfseed['Seed'] == 3][0], dfseed.index[dfseed['Seed'] == 6][0]\n",
    "        return probAbeatsB(A, opp) * probAbeatsB(other1, other2)\n",
    "    if dfseed.loc[A, \"Seed\"] == 5:\n",
    "        opp = dfseed.index[dfseed['Seed'] == 4][0]\n",
    "        other1, other2 = dfseed.index[dfseed['Seed'] == 3][0], dfseed.index[dfseed['Seed'] == 6][0]\n",
    "        return probAbeatsB(A, opp) * probAbeatsB(other1, other2)\n",
    "    if dfseed.loc[A, \"Seed\"] == 6:\n",
    "        opp = dfseed.index[dfseed['Seed'] == 3][0]\n",
    "        return probAbeatsB(A, opp)"
   ]
  },
  {
   "cell_type": "code",
   "execution_count": 177,
   "id": "5d5c3636",
   "metadata": {},
   "outputs": [],
   "source": [
    "odds = 0\n",
    "for player in dfseed.index[1:6]:\n",
    "    podds = prob_Nico_plays_1(player) * probAbeatsB(player, \"Nico\")\n",
    "    odds += podds"
   ]
  },
  {
   "cell_type": "code",
   "execution_count": 178,
   "id": "019f7e05",
   "metadata": {},
   "outputs": [
    {
     "data": {
      "text/plain": [
       "0.21526948774567595"
      ]
     },
     "execution_count": 178,
     "metadata": {},
     "output_type": "execute_result"
    }
   ],
   "source": [
    "odds"
   ]
  },
  {
   "cell_type": "code",
   "execution_count": 190,
   "id": "0fdcba20",
   "metadata": {},
   "outputs": [],
   "source": [
    "def prob_Nico_plays_2(A):\n",
    "    if dfseed.loc[A, \"Seed\"] == 2:\n",
    "        return probAbeatsB()\n",
    "    if dfseed.loc[A, \"Seed\"] == 4:\n",
    "        opp = dfseed.index[dfseed['Seed'] == 5][0]\n",
    "        other1, other2 = dfseed.index[dfseed['Seed'] == 3][0], dfseed.index[dfseed['Seed'] == 6][0]\n",
    "        return probAbeatsB(A, opp) * probAbeatsB(other1, other2)\n",
    "    if dfseed.loc[A, \"Seed\"] == 5:\n",
    "        opp = dfseed.index[dfseed['Seed'] == 4][0]\n",
    "        other1, other2 = dfseed.index[dfseed['Seed'] == 3][0], dfseed.index[dfseed['Seed'] == 6][0]\n",
    "        return probAbeatsB(A, opp) * probAbeatsB(other1, other2)\n",
    "    if dfseed.loc[A, \"Seed\"] == 6:\n",
    "        opp = dfseed.index[dfseed['Seed'] == 3][0]\n",
    "        return probAbeatsB(A, opp)"
   ]
  },
  {
   "cell_type": "code",
   "execution_count": 181,
   "id": "253f74f3",
   "metadata": {},
   "outputs": [],
   "source": [
    "def odds2ndround(A):\n",
    "    if dfseed.loc[A, \"Seed\"] in (1,2):\n",
    "        return 1\n",
    "    if dfseed.loc[A, \"Seed\"] == 3:\n",
    "        opp = dfseed.index[dfseed['Seed'] == 6][0]\n",
    "        return probAbeatsB(A, opp)\n",
    "    if dfseed.loc[A, \"Seed\"] == 4:\n",
    "        opp = dfseed.index[dfseed['Seed'] == 5][0]\n",
    "        return probAbeatsB(A, opp)\n",
    "    if dfseed.loc[A, \"Seed\"] == 5:\n",
    "        opp = dfseed.index[dfseed['Seed'] == 4][0]\n",
    "        return probAbeatsB(A, opp)\n",
    "    if dfseed.loc[A, \"Seed\"] == 6:\n",
    "        opp = dfseed.index[dfseed['Seed'] == 3][0]\n",
    "        return probAbeatsB(A, opp)"
   ]
  },
  {
   "cell_type": "code",
   "execution_count": 207,
   "id": "ac2c0e0c",
   "metadata": {},
   "outputs": [],
   "source": [
    "def oddsAplaysBin2nd(A,B):\n",
    "    odds = 1\n",
    "    if dfseed.loc[A, \"Seed\"] == 1:\n",
    "        if dfseed.loc[B, \"Seed\"] in (1,2,3):\n",
    "            return 0\n",
    "        if dfseed.loc[B, \"Seed\"] == 4:\n",
    "            for i in range(1,5):\n",
    "                odds *= odds2ndround(dfseed.index[i - 1])\n",
    "            return odds\n",
    "        if dfseed.loc[B, \"Seed\"] == 5:\n",
    "            for i in [1,2,3,5]:\n",
    "                odds *= odds2ndround(dfseed.index[i - 1])\n",
    "            return odds\n",
    "        if dfseed.loc[B, \"Seed\"] == 6:\n",
    "            for i in [1,2,6]:\n",
    "                odds *= odds2ndround(dfseed.index[i - 1])\n",
    "            return odds\n",
    "    if dfseed.loc[A, \"Seed\"] == 2:\n",
    "        if dfseed.loc[B, \"Seed\"] in (1,2,6):\n",
    "            return 0\n",
    "        if dfseed.loc[B, \"Seed\"] == 3:\n",
    "            for i in [1,2,3]:\n",
    "                odds *= odds2ndround(dfseed.index[i - 1])\n",
    "            return odds\n",
    "        if dfseed.loc[B, \"Seed\"] == 4:\n",
    "            for i in [1,2,4,6]:\n",
    "                odds *= odds2ndround(dfseed.index[i - 1])\n",
    "            return odds\n",
    "        if dfseed.loc[B, \"Seed\"] == 5:\n",
    "            for i in [1,2,5,6]:\n",
    "                odds *= odds2ndround(dfseed.index[i - 1])\n",
    "            return odds\n",
    "    if dfseed.loc[A, \"Seed\"] == 3:\n",
    "        if dfseed.loc[B, \"Seed\"] in (1,3,4,5,6):\n",
    "            return 0\n",
    "        if dfseed.loc[B, \"Seed\"] == 2:\n",
    "            for i in [1,2,3]:\n",
    "                odds *= odds2ndround(dfseed.index[i - 1])\n",
    "            return odds\n",
    "    if dfseed.loc[A, \"Seed\"] == 4:\n",
    "        if dfseed.loc[B, \"Seed\"] in (3,4,5,6):\n",
    "            return 0\n",
    "        if dfseed.loc[B, \"Seed\"] == 1:\n",
    "            for i in [1,2,3,4]:\n",
    "                odds *= odds2ndround(dfseed.index[i - 1])\n",
    "            return odds\n",
    "        if dfseed.loc[B, \"Seed\"] == 2:\n",
    "            for i in [1,2,4,6]:\n",
    "                odds *= odds2ndround(dfseed.index[i - 1])\n",
    "            return odds\n",
    "    if dfseed.loc[A, \"Seed\"] == 5:\n",
    "        if dfseed.loc[B, \"Seed\"] in (3,4,5,6):\n",
    "            return 0\n",
    "        if dfseed.loc[B, \"Seed\"] == 1:\n",
    "            for i in [1,2,5,6]:\n",
    "                odds *= odds2ndround(dfseed.index[i - 1])\n",
    "            return odds\n",
    "        if dfseed.loc[B, \"Seed\"] == 2:\n",
    "            for i in [1,2,3,5]:\n",
    "                odds *= odds2ndround(dfseed.index[i - 1])\n",
    "            return odds\n",
    "    if dfseed.loc[A, \"Seed\"] == 6:\n",
    "        if dfseed.loc[B, \"Seed\"] in (2,3,4,5,6):\n",
    "            return 0\n",
    "        if dfseed.loc[B, \"Seed\"] == 1:\n",
    "            for i in [1,2,6]:\n",
    "                odds *= odds2ndround(dfseed.index[i - 1])\n",
    "            return odds"
   ]
  },
  {
   "cell_type": "code",
   "execution_count": 210,
   "id": "188b9dd9",
   "metadata": {},
   "outputs": [
    {
     "data": {
      "text/plain": [
       "0"
      ]
     },
     "execution_count": 210,
     "metadata": {},
     "output_type": "execute_result"
    }
   ],
   "source": [
    "oddsAplaysBin2nd(\"Bryce\", \"Isaiah\")"
   ]
  },
  {
   "cell_type": "code",
   "execution_count": 211,
   "id": "393581aa",
   "metadata": {},
   "outputs": [],
   "source": [
    "def odds3rdround(A):\n",
    "    win2nd = 0\n",
    "    for player in dfseed.index[1:6]:\n",
    "        win2nd_player = oddsAplaysBin2nd(A, player)*probAbeatsB(A, player)\n",
    "        win2nd += win2nd_player         \n",
    "    return win2nd"
   ]
  },
  {
   "cell_type": "code",
   "execution_count": 213,
   "id": "0b1b61e4",
   "metadata": {},
   "outputs": [
    {
     "data": {
      "text/plain": [
       "0.34180259476144254"
      ]
     },
     "execution_count": 213,
     "metadata": {},
     "output_type": "execute_result"
    }
   ],
   "source": [
    "odds3rdround(\"Bryce\")"
   ]
  },
  {
   "cell_type": "code",
   "execution_count": null,
   "id": "ee65e3fc",
   "metadata": {},
   "outputs": [],
   "source": []
  }
 ],
 "metadata": {
  "kernelspec": {
   "display_name": "Python 3 (ipykernel)",
   "language": "python",
   "name": "python3"
  },
  "language_info": {
   "codemirror_mode": {
    "name": "ipython",
    "version": 3
   },
   "file_extension": ".py",
   "mimetype": "text/x-python",
   "name": "python",
   "nbconvert_exporter": "python",
   "pygments_lexer": "ipython3",
   "version": "3.10.0"
  }
 },
 "nbformat": 4,
 "nbformat_minor": 5
}
